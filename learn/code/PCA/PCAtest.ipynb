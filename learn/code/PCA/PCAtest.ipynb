{
 "cells": [
  {
   "cell_type": "code",
   "execution_count": 2,
   "metadata": {},
   "outputs": [],
   "source": [
    "import pandas as pd\n",
    "import numpy as np\n",
    "import random as rd\n",
    "from sklearn.decomposition import PCA\n",
    "from sklearn import preprocessing \n",
    "import matplotlib.pyplot as plt "
   ]
  },
  {
   "cell_type": "code",
   "execution_count": 6,
   "metadata": {},
   "outputs": [
    {
     "name": "stdout",
     "output_type": "stream",
     "text": [
      "       wt1  wt2  wt3  wt4   wt5  ko1  ko2  ko3  ko4  ko5\n",
      "gene1   59   53   48   61    54  558  616  572  587  588\n",
      "gene2  130  132  144  126   125  900  953  966  982  949\n",
      "gene3  974  952  932  950  1010  643  662  623  663  623\n",
      "gene4  576  559  544  567   627  236  229  225  254  239\n",
      "gene5  866  919  923  826   893  502  569  513  536  516\n",
      "(100, 10)\n"
     ]
    }
   ],
   "source": [
    "genes = ['gene' + str(i) for i in range(1, 101)]\n",
    "\n",
    "wt = ['wt' + str(i) for i in range(1,6)]\n",
    "ko = ['ko' + str(i) for i in range(1,6)]\n",
    "\n",
    "data = pd.DataFrame(columns=[*wt, *ko], index=genes)\n",
    "# the star * is to create a continues array ex. [wt1,wt2,ko1,ko2] \n",
    "# instead of [wt1,wt2],[ko1,ko2] without the *\n",
    "\n",
    "for gene in data.index:\n",
    "    data.loc[gene, 'wt1' : 'wt5'] = np.random.poisson(lam=rd.randrange(10, 1000), size=5)\n",
    "    data.loc[gene, 'ko1' : 'ko5'] = np.random.poisson(lam=rd.randrange(10, 1000), size=5)\n",
    "\n",
    "\n",
    "print(data.head())\n",
    "print(data.shape)    \n",
    "\n",
    "# (100,10) means we get 100 genes by 20 samples"
   ]
  }
 ],
 "metadata": {
  "kernelspec": {
   "display_name": ".venv",
   "language": "python",
   "name": "python3"
  },
  "language_info": {
   "codemirror_mode": {
    "name": "ipython",
    "version": 3
   },
   "file_extension": ".py",
   "mimetype": "text/x-python",
   "name": "python",
   "nbconvert_exporter": "python",
   "pygments_lexer": "ipython3",
   "version": "3.11.3"
  },
  "orig_nbformat": 4
 },
 "nbformat": 4,
 "nbformat_minor": 2
}
