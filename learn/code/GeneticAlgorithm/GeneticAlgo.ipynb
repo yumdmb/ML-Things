{
 "cells": [
  {
   "attachments": {},
   "cell_type": "markdown",
   "metadata": {},
   "source": [
    "# Simple from Scratch GA"
   ]
  },
  {
   "attachments": {},
   "cell_type": "markdown",
   "metadata": {},
   "source": [
    "Travel Salesman Problem(TSP)\n",
    "- problem of different cities and find the best way by minimizing the distance between the cities\n",
    "\n",
    "Parameters\n",
    "- **The encoding of the solution** : ex, [3,5,1,4,2] visit city cannot visit twice, this is permutation problem\n",
    "- **The decision variables** : use indexes to call for each cities(5 cities)"
   ]
  },
  {
   "cell_type": "code",
   "execution_count": 2,
   "metadata": {},
   "outputs": [],
   "source": [
    "# import \n",
    "import numpy as np\n",
    "import pandas as pd\n",
    "import random as rnd"
   ]
  },
  {
   "cell_type": "code",
   "execution_count": null,
   "metadata": {},
   "outputs": [],
   "source": [
    "# index to represent cities\n",
    "decision_variables = [0,1,2,3,4]"
   ]
  },
  {
   "attachments": {},
   "cell_type": "markdown",
   "metadata": {},
   "source": []
  },
  {
   "cell_type": "code",
   "execution_count": null,
   "metadata": {},
   "outputs": [],
   "source": [
    "distance = [[0.00, 28.02, 17.12, 27.46, 46.07],\n",
    "            [28.02, 0.00, 34.00, 25.55, 25.55],\n",
    "            [17.12, 34.00, 0.00, 18.03, 57.38],\n",
    "            [27.46, 25.55, 18.03, 0.00, 51.11],\n",
    "            [46.07, 25.55, 57.38, 51.11, 0.00]]\n",
    "#  distance variable contains all the the distances(or cost of travel between cities) of every\n",
    "#  possible connection between cities; it is a squared matrix with diagonal of zeros \n",
    "#  because cost visit the same city is 0"
   ]
  },
  {
   "cell_type": "code",
   "execution_count": null,
   "metadata": {},
   "outputs": [],
   "source": [
    "def fitness_function(solution) :\n",
    "    tot_distance = 0\n",
    "    for i in range(len(solution)-1) :\n",
    "        tot_distance+=distance[decision_variables.index(solution[i])],\n",
    "    decision_variables.index(solution[i+1])\n",
    "    return tot_distance"
   ]
  },
  {
   "attachments": {},
   "cell_type": "markdown",
   "metadata": {},
   "source": [
    "fitness_function accepts input a particular solution(encoding) and iterates over it accumulating the total distance for that particular route in the variable tot_distance."
   ]
  },
  {
   "attachments": {},
   "cell_type": "markdown",
   "metadata": {},
   "source": [
    "## Step 1 : Initialization"
   ]
  },
  {
   "cell_type": "code",
   "execution_count": null,
   "metadata": {},
   "outputs": [],
   "source": [
    "def initilize():\n",
    "    pop_bag = []\n",
    "    for i in range(10):\n",
    "        rnd_sol = decision_variables.copy()\n",
    "        rnd.shuffle(rnd_sol)\n",
    "        pop_bag.append(rnd_sol)\n",
    "    return np.array(pop_bag)    "
   ]
  },
  {
   "attachments": {},
   "cell_type": "markdown",
   "metadata": {},
   "source": [
    "create individuals to represent the initial population\n",
    "1. Create it randomly using **decision_variables** and shuffle it in order to generate a random chromosome(just a term to denote an individual)\n",
    "2. It is also included in the population bag(pop_bag) until we reach population size of 10(hard code for 10 ahha)"
   ]
  },
  {
   "attachments": {},
   "cell_type": "markdown",
   "metadata": {},
   "source": [
    "## Step 2 : Evolutionary Process"
   ]
  },
  {
   "cell_type": "code",
   "execution_count": 2,
   "metadata": {},
   "outputs": [],
   "source": [
    "# Selection\n",
    "# Roulette Wheel method\n",
    "\n",
    "# Pick one individual function\n",
    "def pickOne(pop_bag):\n",
    "    fit_bag_evals = eval_fit_population(pop_bag)\n",
    "    a=True\n",
    "    while a:\n",
    "        rnIndex = rnd.randint(0, len(pop_bag)-1)\n",
    "        rnPick = fit_bag_evals[\"fit_wgh\"][rnIndex]\n",
    "        r= rnd.random()\n",
    "        if r <= rnPick:\n",
    "            pickedSol = fit_bag_evals[\"solution\"][rnIndex]\n",
    "            a = False\n",
    "        return pickedSol\n",
    "    \n",
    "# Evaluate fitness in population bag\n",
    "def eval_fit_population(pop_bag):\n",
    "    result = {}\n",
    "    fit_vals_lst = []\n",
    "    solutions = []\n",
    "    for solution in pop_bag:\n",
    "        fit_vals_lst.append(fitness_function(solutions))\n",
    "        solutions.append(solution)\n",
    "    result[\"fit_vals\"] = fit_vals_lst\n",
    "    min_wgh = [np.max(list(result[\"fit_vals\"]))-i for i in list(result[\"fit_vals\"])]\n",
    "    result[\"fit_vals\"] = [i/sum(min_wgh) for i in min_wgh] \n",
    "    result[\"solution\"] = np.array(solutions)\n",
    "    return result      \n",
    "\n"
   ]
  },
  {
   "cell_type": "code",
   "execution_count": null,
   "metadata": {},
   "outputs": [],
   "source": [
    "def crossover(solA, solB):\n",
    "    n = len(solA)\n",
    "    child = [np.nan  for i in range(n)]\n",
    "    num_els = np.ceil(n*rnd.randint(10,90)/100)\n",
    "    str_pnt = rnd.randint(0, n-2)\n",
    "    end_pnt = n if int(str_pnt+num_els) > n else int(str_pnt+num_els)\n",
    "    blockA = list(solA[str_pnt:end_pnt])\n",
    "    child[str_pnt:end_pnt] = blockA\n",
    "    for i  in range(n):\n",
    "        if list(blockA).count(solB[i]) == 0:\n",
    "            for j in range(n):\n",
    "                if np.isnan(child[j]):\n",
    "                    child[j] = solB[i]\n",
    "                    break\n",
    "    return child                \n",
    "    \n"
   ]
  },
  {
   "cell_type": "code",
   "execution_count": null,
   "metadata": {},
   "outputs": [],
   "source": [
    "def mutation(sol):\n",
    "    n = len(sol) \n",
    "    pos_1 = rnd.randint(0, n-1)\n",
    "    pos_2 = rnd.randint(0, n-1)\n",
    "    result = swap(sol, pos_1, pos_2)\n",
    "    return result\n",
    "\n",
    "def swap(sol, posA, posB):\n",
    "    result = sol.copy()\n",
    "    elA = sol[posA]\n",
    "    elB = sol[posB]\n",
    "    result[posA] = elB\n",
    "    result[posB] = elA\n",
    "    return result"
   ]
  }
 ],
 "metadata": {
  "kernelspec": {
   "display_name": ".venv",
   "language": "python",
   "name": "python3"
  },
  "language_info": {
   "codemirror_mode": {
    "name": "ipython",
    "version": 3
   },
   "file_extension": ".py",
   "mimetype": "text/x-python",
   "name": "python",
   "nbconvert_exporter": "python",
   "pygments_lexer": "ipython3",
   "version": "3.11.3"
  },
  "orig_nbformat": 4
 },
 "nbformat": 4,
 "nbformat_minor": 2
}
