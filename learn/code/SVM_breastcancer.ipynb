{
 "cells": [
  {
   "attachments": {},
   "cell_type": "markdown",
   "metadata": {},
   "source": [
    "#### SVM kernels\n",
    "\n",
    "##### _Linear kernel_ normal dot product any two given observations \n",
    "K(x, xi) = sum(x*xi)\n",
    "\n",
    "##### _Polynomial kernel_ ore generalized form of LK. Can distguish curved or nonlinear input space\n",
    "K(x,xi) = 1 + sum(x*xi)^d"
   ]
  },
  {
   "attachments": {},
   "cell_type": "markdown",
   "metadata": {},
   "source": [
    "#### Import libaries"
   ]
  },
  {
   "cell_type": "code",
   "execution_count": 3,
   "metadata": {},
   "outputs": [],
   "source": [
    "from sklearn import datasets\n",
    "\n",
    "#Load dataset\n",
    "cancer = datasets.load_breast_cancer()"
   ]
  },
  {
   "attachments": {},
   "cell_type": "markdown",
   "metadata": {},
   "source": [
    "#### Explore the data"
   ]
  },
  {
   "cell_type": "code",
   "execution_count": null,
   "metadata": {},
   "outputs": [],
   "source": [
    "# print he name of the 13 features\n",
    "print(\"Features:\", cancer.feature_names)\n",
    "\n",
    "#print the label type of cancer('malignant' 'benign')\n",
    "print(\"Labels: \", cancer.target_names)"
   ]
  },
  {
   "cell_type": "code",
   "execution_count": null,
   "metadata": {},
   "outputs": [],
   "source": [
    "#checkking the shape of the dataset using shape\n",
    "#print data(feature)shape\n",
    "cancer.data.shape\n",
    "\n",
    "\n",
    "#print the cancer data features(top 5 records)\n",
    "print(cancer.data[0:5])"
   ]
  },
  {
   "cell_type": "code",
   "execution_count": null,
   "metadata": {},
   "outputs": [],
   "source": [
    "#print the cancer labels(0:malignant,1:benign)\n",
    "print(cancer.target)"
   ]
  },
  {
   "attachments": {},
   "cell_type": "markdown",
   "metadata": {},
   "source": [
    "#### Splitting the data\n",
    "\n",
    "##### train_test_split : 3 parameters : features, target, test_size"
   ]
  },
  {
   "cell_type": "code",
   "execution_count": 9,
   "metadata": {},
   "outputs": [],
   "source": [
    "# Import train_test_split \n",
    "from sklearn.model_selection import train_test_split\n",
    "\n",
    "#split into train and test\n",
    "X_train, X_test, y_train, y_test = train_test_split(cancer.data, cancer.target, test_size=0.3,random_state=109)"
   ]
  },
  {
   "attachments": {},
   "cell_type": "markdown",
   "metadata": {},
   "source": [
    "#### Generating the model\n",
    "\n",
    "##### First, import the SVM module and create support vector classifier object by passing argument kernel as the linear kernel in SVC() function\n",
    "\n",
    "##### then, fit your model on the train set using fit() and perform prediction on the estst set using predict()"
   ]
  },
  {
   "cell_type": "code",
   "execution_count": 10,
   "metadata": {},
   "outputs": [],
   "source": [
    "#import svm model\n",
    "from sklearn import svm\n",
    "\n",
    "#create a svm classifier\n",
    "clf = svm.SVC(kernel='linear') # Linear kernel\n",
    "\n",
    "#Train the model using the training sets\n",
    "clf.fit(X_train,y_train)\n",
    "\n",
    "#Predict the response for the for test data\n",
    "y_pred=clf.predict(X_test)"
   ]
  },
  {
   "attachments": {},
   "cell_type": "markdown",
   "metadata": {},
   "source": [
    "#### Evaluating the model\n",
    "\n",
    "##### accuracy can be computed by comparing actual test set values and predicted values"
   ]
  },
  {
   "cell_type": "code",
   "execution_count": null,
   "metadata": {},
   "outputs": [],
   "source": [
    "# import scikit-learn metrics modue for accuracy calculation\n",
    "from sklearn import metrics\n",
    "from sklearn.metrics import r2_score\n",
    "\n",
    "r2 =r2_score(y_test,y_pred)\n",
    "print(\"R2 Score:\",r2)\n",
    "\n",
    "# Model Accuracy : how often is the classifier correct?\n",
    "print(\"Accuracy\",metrics.accuracy_score(y_test,y_pred))"
   ]
  },
  {
   "attachments": {},
   "cell_type": "markdown",
   "metadata": {},
   "source": [
    "##### further evaluation"
   ]
  },
  {
   "cell_type": "code",
   "execution_count": 12,
   "metadata": {},
   "outputs": [
    {
     "name": "stdout",
     "output_type": "stream",
     "text": [
      "Precision 0.9811320754716981\n",
      "Accuracy 0.9649122807017544\n"
     ]
    }
   ],
   "source": [
    "# Model Precision : what percentage of posiive tuples are labeled as such?\n",
    "print(\"Precision\",metrics.precision_score(y_test,y_pred))\n",
    "# Model Accuracy : how often is the classifier correct?\n",
    "print(\"Accuracy\",metrics.accuracy_score(y_test,y_pred))"
   ]
  }
 ],
 "metadata": {
  "kernelspec": {
   "display_name": ".venv",
   "language": "python",
   "name": "python3"
  },
  "language_info": {
   "codemirror_mode": {
    "name": "ipython",
    "version": 3
   },
   "file_extension": ".py",
   "mimetype": "text/x-python",
   "name": "python",
   "nbconvert_exporter": "python",
   "pygments_lexer": "ipython3",
   "version": "3.11.3"
  },
  "orig_nbformat": 4
 },
 "nbformat": 4,
 "nbformat_minor": 2
}
