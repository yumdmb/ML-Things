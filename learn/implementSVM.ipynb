{
 "cells": [
  {
   "attachments": {},
   "cell_type": "markdown",
   "metadata": {
    "slideshow": {
     "slide_type": "subslide"
    }
   },
   "source": [
    "##Import the libraries"
   ]
  },
  {
   "cell_type": "code",
   "execution_count": 3,
   "metadata": {},
   "outputs": [],
   "source": [
    "import pandas as pd\n",
    "import matplotlib.pyplot as plt\n",
    "import numpy as np"
   ]
  },
  {
   "attachments": {},
   "cell_type": "markdown",
   "metadata": {
    "slideshow": {
     "slide_type": "subslide"
    }
   },
   "source": [
    "##### code explanation\n",
    "The following code performs the following actions:\n",
    "\n",
    "1.Imports the pandas library and reads in a CSV file named 'Iris.csv' using the **pd.read_csv()** function.\n",
    "\n",
    "2.Drops the 'Id' column from the DataFrame using the _df.drop()_ method with the axis=1 parameter.\n",
    "\n",
    "3.Extracts the 'Species' column from the DataFrame and assigns it to the variable 'target'.\n",
    "\n",
    "4.Initializes an empty set named 's'.\n",
    "\n",
    "5.Loops through each value in the 'target' column and adds it to the 's' set using the set.add() method. This \n",
    "effectively creates a set of unique values in the 'Species' column.\n",
    "\n",
    "6.Converts the 's' set to a list using the _list()_ function and assigns the resulting list to the 's' variable. This creates a list of unique species names.\n",
    "\n",
    "7.Creates a list of row indices to drop from the DataFrame using the _list()_ and _range()_ functions. This list contains the integers from 100 to 149.\n",
    "\n",
    "8.Drops the rows with the specified indices from the DataFrame using the df.drop() method with the index parameter and assigns the resulting DataFrame to the 'df' variable. This effectively removes the last 50 rows from the original DataFrame, which corresponds to the samples of the third species ('Iris virginica')."
   ]
  },
  {
   "cell_type": "code",
   "execution_count": 4,
   "metadata": {},
   "outputs": [],
   "source": [
    "df = pd.read_csv('C:\\\\Users\\\\USER\\\\OneDrive - Universiti Malaya\\\\Code\\\\ML-Things\\\\learn\\\\datasets\\\\Iris.csv')\n",
    "df = df.drop(['Id'],axis=1)\n",
    "target = df['Species']\n",
    "s = set()\n",
    "for val in target:  #loop through each value in target\n",
    "    s.add(val)\n",
    "s = list(s)\n",
    "rows = list(range(100,150))\n",
    "df = df.drop(df.index[rows])"
   ]
  },
  {
   "attachments": {},
   "cell_type": "markdown",
   "metadata": {},
   "source": [
    "This code creates a scatter plot using the matplotlib library, where the x-axis corresponds to the 'SepalLengthCm' column and the y-axis corresponds to the 'PetalLengthCm' column of the DataFrame df. The plot shows the relationship between sepal length and petal length for two species of iris flowers: Setosa (in green) and Versicolor (in red).\n",
    "\n",
    "The code first creates two new variables, setosa_x and setosa_y, which are slices of the x and y variables, respectively, corresponding to the first 50 rows of the DataFrame. These variables represent the sepal length and petal length of the Setosa flowers.\n",
    "\n",
    "Then, two more variables are created, versicolor_x and versicolor_y, which are slices of the x and y variables, respectively, corresponding to the remaining rows of the DataFrame (i.e., rows 50 to 99). These variables represent the sepal length and petal length of the Versicolor flowers.\n",
    "\n",
    "Finally, the scatter plot is created using the plt.scatter() function. The function takes four arguments:\n",
    "\n",
    "setosa_x and setosa_y: The x and y coordinates for the Setosa flowers.\n",
    "versicolor_x and versicolor_y: The x and y coordinates for the Versicolor flowers.\n",
    "marker='+',color='green': The marker style and color for the Setosa flowers.\n",
    "marker='_',color='red': The marker style and color for the Versicolor flowers.\n",
    "The resulting plot shows two distinct clusters of points, one corresponding to Setosa flowers (in green) and the other to Versicolor flowers (in red). The plot suggests that there is a positive correlation between sepal length and petal length for both species, but the Versicolor flowers generally have longer petals than the Setosa flowers, even for flowers with similar sepal lengths."
   ]
  },
  {
   "cell_type": "code",
   "execution_count": 5,
   "metadata": {},
   "outputs": [
    {
     "data": {
      "image/png": "[encoded data removed]",
      "text/plain": [
       "<Figure size 800x600 with 1 Axes>"
      ]
     },
     "metadata": {},
     "output_type": "display_data"
    }
   ],
   "source": [
    "x = df['SepalLengthCm']\n",
    "y = df['PetalLengthCm']\n",
    "\n",
    "setosa_x = x[:50]\n",
    "setosa_y = y[:50]\n",
    "\n",
    "versicolor_x = x[50:]\n",
    "versicolor_y = y[50:]\n",
    "\n",
    "plt.figure(figsize=(8,6))\n",
    "plt.scatter(setosa_x,setosa_y,marker='+',color='green')\n",
    "plt.scatter(versicolor_x,versicolor_y,marker='_',color='red')\n",
    "plt.show()"
   ]
  },
  {
   "cell_type": "code",
   "execution_count": null,
   "metadata": {},
   "outputs": [],
   "source": [
    "from sklearn.utils import shuffle\n",
    "from sklearn.model_selection import train_test_split # sklearn.cross_validation is not used anymore \n",
    "import numpy as np\n",
    "#Drop other features \n",
    "#Extract target values\n",
    "df = df.drop(['SepalWidthCm','PetalWidthCm'],axis=1)\n",
    "Y = []\n",
    "target = df['Species']\n",
    "for val in target:\n",
    "    if(val == 'Iris-setosa'):\n",
    "        Y.append(-1)\n",
    "    else:\n",
    "        Y.append(1)\n",
    "df = df.drop(['Species'],axis=1)\n",
    "X = df.values.tolist()\n",
    "## Shuffle and split the data into training and test set\n",
    "X, Y = shuffle(X,Y)\n",
    "x_train = []\n",
    "y_train = []\n",
    "x_test = []\n",
    "y_test = []\n",
    "\n",
    "x_train, x_test, y_train, y_test = train_test_split(X, Y, train_size=0.9)\n",
    "\n",
    "x_train = np.array(x_train)\n",
    "y_train = np.array(y_train)\n",
    "x_test = np.array(x_test)\n",
    "y_test = np.array(y_test)\n",
    "\n",
    "y_train = y_train.reshape(90,1)\n",
    "y_test = y_test.reshape(10,1)"
   ]
  },
  {
   "cell_type": "code",
   "execution_count": null,
   "metadata": {},
   "outputs": [],
   "source": [
    "## Support Vector Machine \n",
    "\n",
    "\n",
    "train_f1 = x_train[:,0]\n",
    "train_f2 = x_train[:,1]\n",
    "\n",
    "train_f1 = train_f1.reshape(90,1)\n",
    "train_f2 = train_f2.reshape(90,1)       #under numpy\n",
    "train_f2=train_f2.r\n",
    "\n",
    "w1 = np.zeros((90,1))\n",
    "w2 = np.zeros((90,1))\n",
    "\n",
    "epochs = 1\n",
    "alpha = 0.0001\n",
    "\n",
    "while(epochs < 10000):\n",
    "    y = w1 * train_f1 + w2 * train_f2\n",
    "    prod = y * y_train\n",
    "    print(epochs)\n",
    "    count = 0\n",
    "    for val in prod:\n",
    "        if(val >= 1):\n",
    "            cost = 0\n",
    "            w1 = w1 - alpha * (2 * 1/epochs * w1)\n",
    "            w2 = w2 - alpha * (2 * 1/epochs * w2)\n",
    "            \n",
    "        else:\n",
    "            cost = 1 - val \n",
    "            w1 = w1 + alpha * (train_f1[count] * y_train[count] - 2 * 1/epochs * w1)\n",
    "            w2 = w2 + alpha * (train_f2[count] * y_train[count] - 2 * 1/epochs * w2)\n",
    "        count += 1\n",
    "    epochs += 1"
   ]
  },
  {
   "cell_type": "code",
   "execution_count": null,
   "metadata": {},
   "outputs": [],
   "source": [
    "from sklearn.metrics import accuracy_score\n",
    "\n",
    "## Clip the weights \n",
    "index = list(range(10,90))\n",
    "w1 = np.delete(w1,index)\n",
    "w2 = np.delete(w2,index)\n",
    "\n",
    "w1 = w1.reshape(10,1)\n",
    "w2 = w2.reshape(10,1)\n",
    "## Extract the test data features \n",
    "test_f1 = x_test[:,0]\n",
    "test_f2 = x_test[:,1]\n",
    "\n",
    "test_f1 = test_f1.reshape(10,1)\n",
    "test_f2 = test_f2.reshape(10,1)\n",
    "## Predict\n",
    "y_pred = w1 * test_f1 + w2 * test_f2\n",
    "predictions = []\n",
    "for val in y_pred:\n",
    "    if(val > 1):\n",
    "        predictions.append()\n",
    "    else:\n",
    "        predictions.append(-1)\n",
    "\n",
    "print(accuracy_score(y_test,predictions))"
   ]
  },
  {
   "cell_type": "code",
   "execution_count": null,
   "metadata": {},
   "outputs": [],
   "source": [
    "from sklearn.svm import SVC\n",
    "from sklearn.metrics import accuracy_score\n",
    "\n",
    "clf = SVC(kernel='linear')\n",
    "clf.fit(x_train,y_train)\n",
    "y_pred = clf.predict(x_test)\n",
    "print(accuracy_score(y_test,y_pred))"
   ]
  }
 ],
 "metadata": {
  "kernelspec": {
   "display_name": "Python 3 (ipykernel)",
   "language": "python",
   "name": "python3"
  },
  "language_info": {
   "codemirror_mode": {
    "name": "ipython",
    "version": 3
   },
   "file_extension": ".py",
   "mimetype": "text/x-python",
   "name": "python",
   "nbconvert_exporter": "python",
   "pygments_lexer": "ipython3",
   "version": "3.11.2"
  }
 },
 "nbformat": 4,
 "nbformat_minor": 2
}
