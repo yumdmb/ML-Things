{
  "cells": [
    {
      "cell_type": "code",
      "execution_count": null,
      "metadata": {
        "cellView": "form",
        "id": "hMqWDc_m6rUC"
      },
      "outputs": [],
      "source": [
        "#@title Copyright 2020 Google LLC. Double-click here for license information.\n",
        "# Licensed under the Apache License, Version 2.0 (the \"License\");\n",
        "# you may not use this file except in compliance with the License.\n",
        "# You may obtain a copy of the License at\n",
        "#\n",
        "# https://www.apache.org/licenses/LICENSE-2.0\n",
        "#\n",
        "# Unless required by applicable law or agreed to in writing, software\n",
        "# distributed under the License is distributed on an \"AS IS\" BASIS,\n",
        "# WITHOUT WARRANTIES OR CONDITIONS OF ANY KIND, either express or implied.\n",
        "# See the License for the specific language governing permissions and\n",
        "# limitations under the License."
      ]
    },
    {
      "cell_type": "markdown",
      "metadata": {
        "id": "T4r2z30vJSbA"
      },
      "source": [
        "# Colabs\n",
        "\n",
        "Machine Learning Crash Course uses Colaboratories (Colabs) for all programming exercises. Colab is Google's implementation of [Jupyter Notebook](https://jupyter.org/). For more information about Colabs and how to use them, go to [Welcome to Colaboratory](https://research.google.com/colaboratory)."
      ]
    },
    {
      "cell_type": "markdown",
      "metadata": {
        "id": "4f3CKqFUqL2-"
      },
      "source": [
        "# Validation Sets and Test Sets\n",
        "\n",
        "The previous Colab exercises evaluated the trained model against the training set, which does not provide a strong signal about the quality of your model. In this Colab, you'll experiment with validation sets and test sets.\n",
        "\n",
        "\n",
        "\n",
        "\n"
      ]
    },
    {
      "cell_type": "markdown",
      "metadata": {
        "id": "3spZH_kNkWWX"
      },
      "source": [
        "## Learning objectives\n",
        "\n",
        "After doing this Colab, you'll know how to do the following:\n",
        "\n",
        "  * Split a [training set](https://developers.google.com/machine-learning/glossary/#training_set) into a smaller training set and a [validation set](https://developers.google.com/machine-learning/glossary/#validation_set).\n",
        "  * Analyze deltas between training set and validation set results.\n",
        "  * Test the trained model with a [test set](https://developers.google.com/machine-learning/glossary/#test_set) to determine whether your trained model is [overfitting](https://developers.google.com/machine-learning/glossary/#overfitting).\n",
        "  * Detect and fix a common training problem."
      ]
    },
    {
      "cell_type": "markdown",
      "metadata": {
        "id": "gV82DJO3kWpk"
      },
      "source": [
        "## The dataset\n",
        "\n",
        "As in the previous exercise, this exercise uses the [California Housing dataset](https://developers.google.com/machine-learning/crash-course/california-housing-data-description) to predict the `median_house_value` at the city block level.  Like many \"famous\" datasets, the California Housing Dataset actually consists of two separate datasets, each living in separate .csv files:\n",
        "\n",
        "* The training set is in `california_housing_train.csv`.\n",
        "* The test set is in `california_housing_test.csv`.\n",
        "\n",
        "You'll create the validation set by dividing the downloaded training set into two parts:\n",
        "\n",
        "* a smaller training set  \n",
        "* a validation set"
      ]
    },
    {
      "cell_type": "markdown",
      "metadata": {
        "id": "S8gm6BpqRRuh"
      },
      "source": [
        "## Import relevant modules\n",
        "\n",
        "This first code cell imports the necessary modules and sets a few display options."
      ]
    },
    {
      "cell_type": "code",
      "execution_count": 2,
      "metadata": {
        "cellView": "form",
        "id": "9D8GgUovHbG0"
      },
      "outputs": [],
      "source": [
        "#@title Import modules\n",
        "import numpy as np\n",
        "import pandas as pd\n",
        "import tensorflow as tf\n",
        "from matplotlib import pyplot as plt\n",
        "\n",
        "pd.options.display.max_rows = 10\n",
        "pd.options.display.float_format = \"{:.1f}\".format"
      ]
    },
    {
      "cell_type": "markdown",
      "metadata": {
        "id": "xjvrrClQeAJu"
      },
      "source": [
        "## Load the datasets from the internet\n",
        "\n",
        "The following code cell loads the separate .csv files and creates the following two pandas DataFrames:\n",
        "\n",
        "* `train_df`, which contains the training set.\n",
        "* `test_df`, which contains the test set.\n",
        "\n"
      ]
    },
    {
      "cell_type": "code",
      "execution_count": 3,
      "metadata": {
        "id": "zUnTc_wfd_o3"
      },
      "outputs": [],
      "source": [
        "train_df = pd.read_csv(\"https://download.mlcc.google.com/mledu-datasets/california_housing_train.csv\")\n",
        "test_df = pd.read_csv(\"https://download.mlcc.google.com/mledu-datasets/california_housing_test.csv\")"
      ]
    },
    {
      "cell_type": "markdown",
      "metadata": {
        "id": "P_KBdj2M_yjM"
      },
      "source": [
        "## Scale the label values\n",
        "\n",
        "The following code cell scales the `median_house_value`. \n",
        "See the previous Colab exercise for details."
      ]
    },
    {
      "cell_type": "code",
      "execution_count": 4,
      "metadata": {
        "id": "3hc7QQhaAFXD"
      },
      "outputs": [],
      "source": [
        "scale_factor = 1000.0\n",
        "\n",
        "# Scale the training set's label.\n",
        "train_df[\"median_house_value\"] /= scale_factor \n",
        "\n",
        "# Scale the test set's label\n",
        "test_df[\"median_house_value\"] /= scale_factor"
      ]
    },
    {
      "cell_type": "markdown",
      "metadata": {
        "id": "FhessIIV8VPc"
      },
      "source": [
        "## Load the functions that build and train a model\n",
        "\n",
        "The following code cell defines two functions:\n",
        "\n",
        "  * `build_model`, which defines the model's topography.\n",
        "  * `train_model`, which will ultimately train the model, outputting not only the loss value for the training set but also the loss value for the validation set. \n",
        "\n",
        "Since you don't need to understand model building code right now, we've hidden this code cell. As always, you must run hidden code cells."
      ]
    },
    {
      "cell_type": "code",
      "execution_count": 5,
      "metadata": {
        "cellView": "form",
        "id": "bvonhK857msj"
      },
      "outputs": [
        {
          "name": "stdout",
          "output_type": "stream",
          "text": [
            "Defined the build_model and train_model functions.\n"
          ]
        }
      ],
      "source": [
        "#@title Define the functions that build and train a model\n",
        "def build_model(my_learning_rate):\n",
        "  \"\"\"Create and compile a simple linear regression model.\"\"\"\n",
        "  # Most simple tf.keras models are sequential.\n",
        "  model = tf.keras.models.Sequential()\n",
        "\n",
        "  # Add one linear layer to the model to yield a simple linear regressor.\n",
        "  model.add(tf.keras.layers.Dense(units=1, input_shape=(1,)))\n",
        "\n",
        "  # Compile the model topography into code that TensorFlow can efficiently\n",
        "  # execute. Configure training to minimize the model's mean squared error. \n",
        "  model.compile(optimizer=tf.keras.optimizers.experimental.RMSprop(learning_rate=my_learning_rate),\n",
        "                loss=\"mean_squared_error\",\n",
        "                metrics=[tf.keras.metrics.RootMeanSquaredError()])\n",
        "\n",
        "  return model               \n",
        "\n",
        "\n",
        "def train_model(model, df, feature, label, my_epochs, \n",
        "                my_batch_size=None, my_validation_split=0.1):\n",
        "  \"\"\"Feed a dataset into the model in order to train it.\"\"\"\n",
        "\n",
        "  history = model.fit(x=df[feature],\n",
        "                      y=df[label],\n",
        "                      batch_size=my_batch_size,\n",
        "                      epochs=my_epochs,\n",
        "                      validation_split=my_validation_split)\n",
        "\n",
        "  # Gather the model's trained weight and bias.\n",
        "  trained_weight = model.get_weights()[0]\n",
        "  trained_bias = model.get_weights()[1]\n",
        "\n",
        "  # The list of epochs is stored separately from the \n",
        "  # rest of history.\n",
        "  epochs = history.epoch\n",
        "  \n",
        "  # Isolate the root mean squared error for each epoch.\n",
        "  hist = pd.DataFrame(history.history)\n",
        "  rmse = hist[\"root_mean_squared_error\"]\n",
        "\n",
        "  return epochs, rmse, history.history   \n",
        "\n",
        "print(\"Defined the build_model and train_model functions.\")"
      ]
    },
    {
      "cell_type": "markdown",
      "metadata": {
        "id": "8gRu4Ri0D8tH"
      },
      "source": [
        "## Define plotting functions\n",
        "\n",
        "The `plot_the_loss_curve` function plots loss vs. epochs for both the training set and the validation set."
      ]
    },
    {
      "cell_type": "code",
      "execution_count": 7,
      "metadata": {
        "cellView": "form",
        "id": "QA7hsqPZDvVM"
      },
      "outputs": [
        {
          "name": "stdout",
          "output_type": "stream",
          "text": [
            "Defined the plot_the_loss_curve function.\n"
          ]
        }
      ],
      "source": [
        "#@title Define the plotting function\n",
        "\n",
        "def plot_the_loss_curve(epochs, mae_training, mae_validation):\n",
        "  \"\"\"Plot a curve of loss vs. epoch.\"\"\"\n",
        "\n",
        "  plt.figure()\n",
        "  plt.xlabel(\"Epoch\")\n",
        "  plt.ylabel(\"Root Mean Squared Error\")\n",
        "\n",
        "  plt.plot(epochs[1:], mae_training[1:], label=\"Training Loss\")\n",
        "  plt.plot(epochs[1:], mae_validation[1:], label=\"Validation Loss\")\n",
        "  plt.legend()\n",
        "  \n",
        "  # We're not going to plot the first epoch, since the loss on the first epoch\n",
        "  # is often substantially greater than the loss for other epochs.\n",
        "  merged_mae_lists = mae_training[1:] + mae_validation[1:]\n",
        "  highest_loss = max(merged_mae_lists)\n",
        "  lowest_loss = min(merged_mae_lists)\n",
        "  delta = highest_loss - lowest_loss\n",
        "  print(delta)\n",
        "\n",
        "  top_of_y_axis = highest_loss + (delta * 0.05)\n",
        "  bottom_of_y_axis = lowest_loss - (delta * 0.05)\n",
        "   \n",
        "  plt.ylim([bottom_of_y_axis, top_of_y_axis])\n",
        "  plt.show()  \n",
        "\n",
        "print(\"Defined the plot_the_loss_curve function.\")"
      ]
    },
    {
      "cell_type": "markdown",
      "metadata": {
        "id": "jipBqEQXlsN8"
      },
      "source": [
        "## Task 1: Experiment with the validation split\n",
        "\n",
        "In the following code cell, you'll see a variable named `validation_split`, which we've initialized at 0.2.  The `validation_split` variable specifies the proportion of the original training set that will serve as the validation set. The original training set contains 17,000 examples. Therefore, a `validation_split` of 0.2 means that:\n",
        "\n",
        "* 17,000 * 0.2 ~= 3,400 examples will become the validation set.\n",
        "* 17,000 * 0.8 ~= 13,600 examples will become the new training set.\n",
        "\n",
        "The following code builds a model, trains it on the training set, and evaluates the built model on both:\n",
        "\n",
        "* The training set.\n",
        "* And the validation set.\n",
        "\n",
        "If the data in the training set is similar to the data in the validation set, then the two loss curves and the final loss values should be almost identical. However, the loss curves and final loss values are **not** almost identical. Hmm, that's odd.  \n",
        "\n",
        "Experiment with two or three different values of `validation_split`.  Do different values of `validation_split` fix the problem? \n"
      ]
    },
    {
      "cell_type": "code",
      "execution_count": 8,
      "metadata": {
        "id": "knP23Taoa00a"
      },
      "outputs": [
        {
          "name": "stdout",
          "output_type": "stream",
          "text": [
            "Epoch 1/30\n",
            "102/102 [==============================] - 1s 3ms/step - loss: 45804.3828 - root_mean_squared_error: 214.0196 - val_loss: 36965.4570 - val_root_mean_squared_error: 192.2640\n",
            "Epoch 2/30\n",
            "102/102 [==============================] - 0s 3ms/step - loss: 31119.4922 - root_mean_squared_error: 176.4072 - val_loss: 24265.0938 - val_root_mean_squared_error: 155.7726\n",
            "Epoch 3/30\n",
            "102/102 [==============================] - 0s 2ms/step - loss: 20041.6777 - root_mean_squared_error: 141.5686 - val_loss: 15115.5537 - val_root_mean_squared_error: 122.9453\n",
            "Epoch 4/30\n",
            "102/102 [==============================] - 0s 2ms/step - loss: 12477.0693 - root_mean_squared_error: 111.7008 - val_loss: 9422.2207 - val_root_mean_squared_error: 97.0681\n",
            "Epoch 5/30\n",
            "102/102 [==============================] - 0s 2ms/step - loss: 8366.7891 - root_mean_squared_error: 91.4702 - val_loss: 7009.2202 - val_root_mean_squared_error: 83.7211\n",
            "Epoch 6/30\n",
            "102/102 [==============================] - 0s 2ms/step - loss: 7207.0298 - root_mean_squared_error: 84.8942 - val_loss: 6797.3696 - val_root_mean_squared_error: 82.4462\n",
            "Epoch 7/30\n",
            "102/102 [==============================] - 0s 3ms/step - loss: 7158.9351 - root_mean_squared_error: 84.6105 - val_loss: 6799.9629 - val_root_mean_squared_error: 82.4619\n",
            "Epoch 8/30\n",
            "102/102 [==============================] - 0s 2ms/step - loss: 7155.4272 - root_mean_squared_error: 84.5898 - val_loss: 6804.9595 - val_root_mean_squared_error: 82.4922\n",
            "Epoch 9/30\n",
            "102/102 [==============================] - 0s 2ms/step - loss: 7153.5962 - root_mean_squared_error: 84.5789 - val_loss: 6808.9800 - val_root_mean_squared_error: 82.5165\n",
            "Epoch 10/30\n",
            "102/102 [==============================] - 0s 2ms/step - loss: 7151.2539 - root_mean_squared_error: 84.5651 - val_loss: 6812.3623 - val_root_mean_squared_error: 82.5370\n",
            "Epoch 11/30\n",
            "102/102 [==============================] - 0s 2ms/step - loss: 7150.6445 - root_mean_squared_error: 84.5615 - val_loss: 6815.1929 - val_root_mean_squared_error: 82.5542\n",
            "Epoch 12/30\n",
            "102/102 [==============================] - 0s 2ms/step - loss: 7150.0269 - root_mean_squared_error: 84.5578 - val_loss: 6818.1729 - val_root_mean_squared_error: 82.5722\n",
            "Epoch 13/30\n",
            "102/102 [==============================] - 0s 2ms/step - loss: 7148.5405 - root_mean_squared_error: 84.5490 - val_loss: 6821.0796 - val_root_mean_squared_error: 82.5898\n",
            "Epoch 14/30\n",
            "102/102 [==============================] - 0s 2ms/step - loss: 7147.4370 - root_mean_squared_error: 84.5425 - val_loss: 6823.2651 - val_root_mean_squared_error: 82.6031\n",
            "Epoch 15/30\n",
            "102/102 [==============================] - 0s 2ms/step - loss: 7147.8975 - root_mean_squared_error: 84.5452 - val_loss: 6826.5586 - val_root_mean_squared_error: 82.6230\n",
            "Epoch 16/30\n",
            "102/102 [==============================] - 0s 2ms/step - loss: 7148.0508 - root_mean_squared_error: 84.5461 - val_loss: 6829.1484 - val_root_mean_squared_error: 82.6387\n",
            "Epoch 17/30\n",
            "102/102 [==============================] - 0s 2ms/step - loss: 7146.8462 - root_mean_squared_error: 84.5390 - val_loss: 6830.7798 - val_root_mean_squared_error: 82.6485\n",
            "Epoch 18/30\n",
            "102/102 [==============================] - 0s 2ms/step - loss: 7146.0327 - root_mean_squared_error: 84.5342 - val_loss: 6831.7290 - val_root_mean_squared_error: 82.6543\n",
            "Epoch 19/30\n",
            "102/102 [==============================] - 0s 2ms/step - loss: 7145.8071 - root_mean_squared_error: 84.5329 - val_loss: 6832.7124 - val_root_mean_squared_error: 82.6602\n",
            "Epoch 20/30\n",
            "102/102 [==============================] - 0s 2ms/step - loss: 7146.8369 - root_mean_squared_error: 84.5390 - val_loss: 6834.6616 - val_root_mean_squared_error: 82.6720\n",
            "Epoch 21/30\n",
            "102/102 [==============================] - 0s 2ms/step - loss: 7147.7192 - root_mean_squared_error: 84.5442 - val_loss: 6834.5737 - val_root_mean_squared_error: 82.6715\n",
            "Epoch 22/30\n",
            "102/102 [==============================] - 0s 2ms/step - loss: 7147.1406 - root_mean_squared_error: 84.5408 - val_loss: 6835.9141 - val_root_mean_squared_error: 82.6796\n",
            "Epoch 23/30\n",
            "102/102 [==============================] - 0s 2ms/step - loss: 7146.7310 - root_mean_squared_error: 84.5383 - val_loss: 6836.4385 - val_root_mean_squared_error: 82.6828\n",
            "Epoch 24/30\n",
            "102/102 [==============================] - 0s 2ms/step - loss: 7146.8848 - root_mean_squared_error: 84.5392 - val_loss: 6836.2910 - val_root_mean_squared_error: 82.6819\n",
            "Epoch 25/30\n",
            "102/102 [==============================] - 0s 2ms/step - loss: 7146.5029 - root_mean_squared_error: 84.5370 - val_loss: 6836.8564 - val_root_mean_squared_error: 82.6853\n",
            "Epoch 26/30\n",
            "102/102 [==============================] - 0s 3ms/step - loss: 7145.7437 - root_mean_squared_error: 84.5325 - val_loss: 6837.8760 - val_root_mean_squared_error: 82.6915\n",
            "Epoch 27/30\n",
            "102/102 [==============================] - 0s 2ms/step - loss: 7145.9458 - root_mean_squared_error: 84.5337 - val_loss: 6838.1265 - val_root_mean_squared_error: 82.6930\n",
            "Epoch 28/30\n",
            "102/102 [==============================] - 0s 2ms/step - loss: 7143.1992 - root_mean_squared_error: 84.5174 - val_loss: 6845.0640 - val_root_mean_squared_error: 82.7349\n",
            "Epoch 29/30\n",
            "102/102 [==============================] - 0s 2ms/step - loss: 7147.2261 - root_mean_squared_error: 84.5413 - val_loss: 6840.9312 - val_root_mean_squared_error: 82.7099\n",
            "Epoch 30/30\n",
            "102/102 [==============================] - 0s 2ms/step - loss: 7146.7324 - root_mean_squared_error: 84.5384 - val_loss: 6837.9932 - val_root_mean_squared_error: 82.6922\n",
            "93.96102142333984\n"
          ]
        },
        {
          "data": {
            "image/png": "[encoded data removed]",
            "text/plain": [
              "<Figure size 640x480 with 1 Axes>"
            ]
          },
          "metadata": {},
          "output_type": "display_data"
        }
      ],
      "source": [
        "# The following variables are the hyperparameters.\n",
        "learning_rate = 0.08\n",
        "epochs = 30\n",
        "batch_size = 100\n",
        "\n",
        "# Split the original training set into a reduced training set and a\n",
        "# validation set. \n",
        "validation_split =0.4\n",
        "\n",
        "# Identify the feature and the label.\n",
        "my_feature = \"median_income\"    # the median income on a specific city block.\n",
        "my_label = \"median_house_value\" # the median house value on a specific city block.\n",
        "# That is, you're going to create a model that predicts house value based \n",
        "# solely on the neighborhood's median income.  \n",
        "\n",
        "# Invoke the functions to build and train the model.\n",
        "my_model = build_model(learning_rate)\n",
        "epochs, rmse, history = train_model(my_model, train_df, my_feature, \n",
        "                                    my_label, epochs, batch_size, \n",
        "                                    validation_split)\n",
        "\n",
        "plot_the_loss_curve(epochs, history[\"root_mean_squared_error\"], \n",
        "                    history[\"val_root_mean_squared_error\"])"
      ]
    },
    {
      "cell_type": "markdown",
      "metadata": {
        "id": "TKa11JK4Pm3f"
      },
      "source": [
        "## Task 2: Determine **why** the loss curves differ\n",
        "\n",
        "No matter how you split the training set and the validation set, the loss curves differ significantly. Evidently, the data in the training set isn't similar enough to the data in the validation set. Counterintuitive? Yes, but this problem is actually pretty common in machine learning. \n",
        "\n",
        "Your task is to determine **why** the loss curves aren't highly similar. As with most issues in machine learning, the problem is rooted in the data itself. To solve this mystery of why the training set and validation set aren't almost identical, write a line or two of [pandas code](https://colab.research.google.com/github/google/eng-edu/blob/main/ml/cc/exercises/pandas_dataframe_ultraquick_tutorial.ipynb?utm_source=validation-colab&utm_medium=colab&utm_campaign=colab-external&utm_content=pandas_tf2-colab&hl=en) in the following code cell.  Here are a couple of hints:\n",
        "\n",
        "  * The previous code cell split the original training set into:\n",
        "    * a reduced training set (the original training set - the validation set)\n",
        "    * the validation set \n",
        "  * By default, the pandas [`head`](https://pandas.pydata.org/pandas-docs/stable/reference/api/pandas.DataFrame.head.html) method outputs the *first* 5 rows of the DataFrame. To see more of the training set, specify the `n` argument to `head` and assign a large positive integer to `n`."
      ]
    },
    {
      "cell_type": "code",
      "execution_count": 9,
      "metadata": {
        "id": "VJQcAZkwJt_p"
      },
      "outputs": [
        {
          "data": {
            "text/html": [
              "<div>\n",
              "<style scoped>\n",
              "    .dataframe tbody tr th:only-of-type {\n",
              "        vertical-align: middle;\n",
              "    }\n",
              "\n",
              "    .dataframe tbody tr th {\n",
              "        vertical-align: top;\n",
              "    }\n",
              "\n",
              "    .dataframe thead th {\n",
              "        text-align: right;\n",
              "    }\n",
              "</style>\n",
              "<table border=\"1\" class=\"dataframe\">\n",
              "  <thead>\n",
              "    <tr style=\"text-align: right;\">\n",
              "      <th></th>\n",
              "      <th>longitude</th>\n",
              "      <th>latitude</th>\n",
              "      <th>housing_median_age</th>\n",
              "      <th>total_rooms</th>\n",
              "      <th>total_bedrooms</th>\n",
              "      <th>population</th>\n",
              "      <th>households</th>\n",
              "      <th>median_income</th>\n",
              "      <th>median_house_value</th>\n",
              "    </tr>\n",
              "  </thead>\n",
              "  <tbody>\n",
              "    <tr>\n",
              "      <th>0</th>\n",
              "      <td>-114.3</td>\n",
              "      <td>34.2</td>\n",
              "      <td>15.0</td>\n",
              "      <td>5612.0</td>\n",
              "      <td>1283.0</td>\n",
              "      <td>1015.0</td>\n",
              "      <td>472.0</td>\n",
              "      <td>1.5</td>\n",
              "      <td>66.9</td>\n",
              "    </tr>\n",
              "    <tr>\n",
              "      <th>1</th>\n",
              "      <td>-114.5</td>\n",
              "      <td>34.4</td>\n",
              "      <td>19.0</td>\n",
              "      <td>7650.0</td>\n",
              "      <td>1901.0</td>\n",
              "      <td>1129.0</td>\n",
              "      <td>463.0</td>\n",
              "      <td>1.8</td>\n",
              "      <td>80.1</td>\n",
              "    </tr>\n",
              "    <tr>\n",
              "      <th>2</th>\n",
              "      <td>-114.6</td>\n",
              "      <td>33.7</td>\n",
              "      <td>17.0</td>\n",
              "      <td>720.0</td>\n",
              "      <td>174.0</td>\n",
              "      <td>333.0</td>\n",
              "      <td>117.0</td>\n",
              "      <td>1.7</td>\n",
              "      <td>85.7</td>\n",
              "    </tr>\n",
              "    <tr>\n",
              "      <th>3</th>\n",
              "      <td>-114.6</td>\n",
              "      <td>33.6</td>\n",
              "      <td>14.0</td>\n",
              "      <td>1501.0</td>\n",
              "      <td>337.0</td>\n",
              "      <td>515.0</td>\n",
              "      <td>226.0</td>\n",
              "      <td>3.2</td>\n",
              "      <td>73.4</td>\n",
              "    </tr>\n",
              "    <tr>\n",
              "      <th>4</th>\n",
              "      <td>-114.6</td>\n",
              "      <td>33.6</td>\n",
              "      <td>20.0</td>\n",
              "      <td>1454.0</td>\n",
              "      <td>326.0</td>\n",
              "      <td>624.0</td>\n",
              "      <td>262.0</td>\n",
              "      <td>1.9</td>\n",
              "      <td>65.5</td>\n",
              "    </tr>\n",
              "    <tr>\n",
              "      <th>...</th>\n",
              "      <td>...</td>\n",
              "      <td>...</td>\n",
              "      <td>...</td>\n",
              "      <td>...</td>\n",
              "      <td>...</td>\n",
              "      <td>...</td>\n",
              "      <td>...</td>\n",
              "      <td>...</td>\n",
              "      <td>...</td>\n",
              "    </tr>\n",
              "    <tr>\n",
              "      <th>995</th>\n",
              "      <td>-117.1</td>\n",
              "      <td>32.5</td>\n",
              "      <td>8.0</td>\n",
              "      <td>6533.0</td>\n",
              "      <td>1217.0</td>\n",
              "      <td>4797.0</td>\n",
              "      <td>1177.0</td>\n",
              "      <td>4.0</td>\n",
              "      <td>144.4</td>\n",
              "    </tr>\n",
              "    <tr>\n",
              "      <th>996</th>\n",
              "      <td>-117.1</td>\n",
              "      <td>34.6</td>\n",
              "      <td>6.0</td>\n",
              "      <td>5110.0</td>\n",
              "      <td>1044.0</td>\n",
              "      <td>1938.0</td>\n",
              "      <td>724.0</td>\n",
              "      <td>3.2</td>\n",
              "      <td>112.8</td>\n",
              "    </tr>\n",
              "    <tr>\n",
              "      <th>997</th>\n",
              "      <td>-117.1</td>\n",
              "      <td>34.2</td>\n",
              "      <td>22.0</td>\n",
              "      <td>4397.0</td>\n",
              "      <td>931.0</td>\n",
              "      <td>1145.0</td>\n",
              "      <td>445.0</td>\n",
              "      <td>4.5</td>\n",
              "      <td>108.4</td>\n",
              "    </tr>\n",
              "    <tr>\n",
              "      <th>998</th>\n",
              "      <td>-117.1</td>\n",
              "      <td>34.0</td>\n",
              "      <td>24.0</td>\n",
              "      <td>4144.0</td>\n",
              "      <td>826.0</td>\n",
              "      <td>2127.0</td>\n",
              "      <td>772.0</td>\n",
              "      <td>2.5</td>\n",
              "      <td>96.0</td>\n",
              "    </tr>\n",
              "    <tr>\n",
              "      <th>999</th>\n",
              "      <td>-117.1</td>\n",
              "      <td>33.6</td>\n",
              "      <td>6.0</td>\n",
              "      <td>1868.0</td>\n",
              "      <td>289.0</td>\n",
              "      <td>750.0</td>\n",
              "      <td>247.0</td>\n",
              "      <td>4.4</td>\n",
              "      <td>307.6</td>\n",
              "    </tr>\n",
              "  </tbody>\n",
              "</table>\n",
              "<p>1000 rows × 9 columns</p>\n",
              "</div>"
            ],
            "text/plain": [
              "     longitude  latitude  housing_median_age  total_rooms  total_bedrooms  \\\n",
              "0       -114.3      34.2                15.0       5612.0          1283.0   \n",
              "1       -114.5      34.4                19.0       7650.0          1901.0   \n",
              "2       -114.6      33.7                17.0        720.0           174.0   \n",
              "3       -114.6      33.6                14.0       1501.0           337.0   \n",
              "4       -114.6      33.6                20.0       1454.0           326.0   \n",
              "..         ...       ...                 ...          ...             ...   \n",
              "995     -117.1      32.5                 8.0       6533.0          1217.0   \n",
              "996     -117.1      34.6                 6.0       5110.0          1044.0   \n",
              "997     -117.1      34.2                22.0       4397.0           931.0   \n",
              "998     -117.1      34.0                24.0       4144.0           826.0   \n",
              "999     -117.1      33.6                 6.0       1868.0           289.0   \n",
              "\n",
              "     population  households  median_income  median_house_value  \n",
              "0        1015.0       472.0            1.5                66.9  \n",
              "1        1129.0       463.0            1.8                80.1  \n",
              "2         333.0       117.0            1.7                85.7  \n",
              "3         515.0       226.0            3.2                73.4  \n",
              "4         624.0       262.0            1.9                65.5  \n",
              "..          ...         ...            ...                 ...  \n",
              "995      4797.0      1177.0            4.0               144.4  \n",
              "996      1938.0       724.0            3.2               112.8  \n",
              "997      1145.0       445.0            4.5               108.4  \n",
              "998      2127.0       772.0            2.5                96.0  \n",
              "999       750.0       247.0            4.4               307.6  \n",
              "\n",
              "[1000 rows x 9 columns]"
            ]
          },
          "execution_count": 9,
          "metadata": {},
          "output_type": "execute_result"
        }
      ],
      "source": [
        "# Write some code in this code cell.\n",
        "train_df.head(1000)"
      ]
    },
    {
      "cell_type": "code",
      "execution_count": null,
      "metadata": {
        "cellView": "form",
        "id": "EnNvkFwwK8WY"
      },
      "outputs": [],
      "source": [
        "#@title Double-click for a possible solution to Task 2.\n",
        "\n",
        "# Examine examples 0 through 4 and examples 995 through 999\n",
        "# of the training set\n",
        "train_df.head(n=1000)\n",
        "\n",
        "# The original training set is sorted by longitude. \n",
        "# Apparently, longitude influences the relationship of\n",
        "# total_rooms to median_house_value."
      ]
    },
    {
      "cell_type": "markdown",
      "metadata": {
        "id": "rw4xI1ZEckI8"
      },
      "source": [
        "## Task 3. Fix the problem\n",
        "\n",
        "To fix the problem, shuffle the examples in the training set before splitting the examples into a training set and validation set. To do so, take the following steps:\n",
        "\n",
        "1. Shuffle the data in the training set by adding the following line anywhere before you call `train_model` (in the code cell associated with Task 1):\n",
        "\n",
        "```\n",
        "  shuffled_train_df = train_df.reindex(np.random.permutation(train_df.index))\n",
        "```                                    \n",
        "\n",
        "2. Pass `shuffled_train_df` (instead of `train_df`) as the second argument to `train_model` (in the code call associated with Task 1) so that the call becomes as follows:\n",
        "\n",
        "```\n",
        "  epochs, rmse, history = train_model(my_model, shuffled_train_df, my_feature, \n",
        "                                      my_label, epochs, batch_size, \n",
        "                                      validation_split)\n",
        "```"
      ]
    },
    {
      "cell_type": "code",
      "execution_count": 10,
      "metadata": {
        "cellView": "form",
        "id": "ncODhpv0h-LG"
      },
      "outputs": [
        {
          "name": "stdout",
          "output_type": "stream",
          "text": [
            "Epoch 1/70\n",
            "136/136 [==============================] - 0s 2ms/step - loss: 40975.9258 - root_mean_squared_error: 202.4251 - val_loss: 30982.1797 - val_root_mean_squared_error: 176.0175\n",
            "Epoch 2/70\n",
            "136/136 [==============================] - 0s 1ms/step - loss: 23664.4102 - root_mean_squared_error: 153.8324 - val_loss: 16951.4570 - val_root_mean_squared_error: 130.1978\n",
            "Epoch 3/70\n",
            "136/136 [==============================] - 0s 1ms/step - loss: 12611.3730 - root_mean_squared_error: 112.3004 - val_loss: 9055.7393 - val_root_mean_squared_error: 95.1616\n",
            "Epoch 4/70\n",
            "136/136 [==============================] - 0s 1ms/step - loss: 7740.4292 - root_mean_squared_error: 87.9797 - val_loss: 6920.6206 - val_root_mean_squared_error: 83.1903\n",
            "Epoch 5/70\n",
            "136/136 [==============================] - 0s 1ms/step - loss: 7044.8301 - root_mean_squared_error: 83.9335 - val_loss: 6904.3413 - val_root_mean_squared_error: 83.0924\n",
            "Epoch 6/70\n",
            "136/136 [==============================] - 0s 1ms/step - loss: 7042.3599 - root_mean_squared_error: 83.9188 - val_loss: 6904.6606 - val_root_mean_squared_error: 83.0943\n",
            "Epoch 7/70\n",
            "136/136 [==============================] - 0s 1ms/step - loss: 7043.7144 - root_mean_squared_error: 83.9268 - val_loss: 6904.8477 - val_root_mean_squared_error: 83.0954\n",
            "Epoch 8/70\n",
            "136/136 [==============================] - 0s 1ms/step - loss: 7043.7158 - root_mean_squared_error: 83.9268 - val_loss: 6903.3667 - val_root_mean_squared_error: 83.0865\n",
            "Epoch 9/70\n",
            "136/136 [==============================] - 0s 1ms/step - loss: 7042.3105 - root_mean_squared_error: 83.9185 - val_loss: 6902.8525 - val_root_mean_squared_error: 83.0834\n",
            "Epoch 10/70\n",
            "136/136 [==============================] - 0s 1ms/step - loss: 7043.0396 - root_mean_squared_error: 83.9228 - val_loss: 6902.6865 - val_root_mean_squared_error: 83.0824\n",
            "Epoch 11/70\n",
            "136/136 [==============================] - 0s 1ms/step - loss: 7043.9175 - root_mean_squared_error: 83.9280 - val_loss: 6902.4072 - val_root_mean_squared_error: 83.0807\n",
            "Epoch 12/70\n",
            "136/136 [==============================] - 0s 2ms/step - loss: 7043.1851 - root_mean_squared_error: 83.9237 - val_loss: 6902.0601 - val_root_mean_squared_error: 83.0786\n",
            "Epoch 13/70\n",
            "136/136 [==============================] - 0s 1ms/step - loss: 7043.2402 - root_mean_squared_error: 83.9240 - val_loss: 6901.8594 - val_root_mean_squared_error: 83.0774\n",
            "Epoch 14/70\n",
            "136/136 [==============================] - 0s 1ms/step - loss: 7042.4443 - root_mean_squared_error: 83.9193 - val_loss: 6904.7412 - val_root_mean_squared_error: 83.0948\n",
            "Epoch 15/70\n",
            "136/136 [==============================] - 0s 1ms/step - loss: 7044.0083 - root_mean_squared_error: 83.9286 - val_loss: 6903.5107 - val_root_mean_squared_error: 83.0874\n",
            "Epoch 16/70\n",
            "136/136 [==============================] - 0s 1ms/step - loss: 7043.8081 - root_mean_squared_error: 83.9274 - val_loss: 6901.9370 - val_root_mean_squared_error: 83.0779\n",
            "Epoch 17/70\n",
            "136/136 [==============================] - 0s 1ms/step - loss: 7041.2163 - root_mean_squared_error: 83.9120 - val_loss: 6901.9707 - val_root_mean_squared_error: 83.0781\n",
            "Epoch 18/70\n",
            "136/136 [==============================] - 0s 1ms/step - loss: 7042.4570 - root_mean_squared_error: 83.9193 - val_loss: 6901.5859 - val_root_mean_squared_error: 83.0758\n",
            "Epoch 19/70\n",
            "136/136 [==============================] - 0s 1ms/step - loss: 7043.3193 - root_mean_squared_error: 83.9245 - val_loss: 6901.6953 - val_root_mean_squared_error: 83.0764\n",
            "Epoch 20/70\n",
            "136/136 [==============================] - 0s 1ms/step - loss: 7043.6953 - root_mean_squared_error: 83.9267 - val_loss: 6901.6948 - val_root_mean_squared_error: 83.0764\n",
            "Epoch 21/70\n",
            "136/136 [==============================] - 0s 1ms/step - loss: 7043.4966 - root_mean_squared_error: 83.9255 - val_loss: 6901.3574 - val_root_mean_squared_error: 83.0744\n",
            "Epoch 22/70\n",
            "136/136 [==============================] - 0s 1ms/step - loss: 7043.7983 - root_mean_squared_error: 83.9273 - val_loss: 6901.5308 - val_root_mean_squared_error: 83.0755\n",
            "Epoch 23/70\n",
            "136/136 [==============================] - 0s 1ms/step - loss: 7043.4092 - root_mean_squared_error: 83.9250 - val_loss: 6902.7979 - val_root_mean_squared_error: 83.0831\n",
            "Epoch 24/70\n",
            "136/136 [==============================] - 0s 1ms/step - loss: 7042.9092 - root_mean_squared_error: 83.9220 - val_loss: 6901.7939 - val_root_mean_squared_error: 83.0770\n",
            "Epoch 25/70\n",
            "136/136 [==============================] - 0s 1ms/step - loss: 7043.6426 - root_mean_squared_error: 83.9264 - val_loss: 6902.1860 - val_root_mean_squared_error: 83.0794\n",
            "Epoch 26/70\n",
            "136/136 [==============================] - 0s 2ms/step - loss: 7041.2729 - root_mean_squared_error: 83.9123 - val_loss: 6905.9507 - val_root_mean_squared_error: 83.1021\n",
            "Epoch 27/70\n",
            "136/136 [==============================] - 0s 1ms/step - loss: 7043.8301 - root_mean_squared_error: 83.9275 - val_loss: 6901.6753 - val_root_mean_squared_error: 83.0763\n",
            "Epoch 28/70\n",
            "136/136 [==============================] - 0s 1ms/step - loss: 7041.7876 - root_mean_squared_error: 83.9154 - val_loss: 6904.2622 - val_root_mean_squared_error: 83.0919\n",
            "Epoch 29/70\n",
            "136/136 [==============================] - 0s 1ms/step - loss: 7043.0894 - root_mean_squared_error: 83.9231 - val_loss: 6901.5542 - val_root_mean_squared_error: 83.0756\n",
            "Epoch 30/70\n",
            "136/136 [==============================] - 0s 1ms/step - loss: 7043.5942 - root_mean_squared_error: 83.9261 - val_loss: 6901.5425 - val_root_mean_squared_error: 83.0755\n",
            "Epoch 31/70\n",
            "136/136 [==============================] - 0s 1ms/step - loss: 7042.1704 - root_mean_squared_error: 83.9176 - val_loss: 6901.6001 - val_root_mean_squared_error: 83.0759\n",
            "Epoch 32/70\n",
            "136/136 [==============================] - 0s 2ms/step - loss: 7043.1465 - root_mean_squared_error: 83.9235 - val_loss: 6901.5391 - val_root_mean_squared_error: 83.0755\n",
            "Epoch 33/70\n",
            "136/136 [==============================] - 0s 1ms/step - loss: 7042.2334 - root_mean_squared_error: 83.9180 - val_loss: 6902.2998 - val_root_mean_squared_error: 83.0801\n",
            "Epoch 34/70\n",
            "136/136 [==============================] - 0s 1ms/step - loss: 7043.5830 - root_mean_squared_error: 83.9261 - val_loss: 6902.4487 - val_root_mean_squared_error: 83.0810\n",
            "Epoch 35/70\n",
            "136/136 [==============================] - 0s 1ms/step - loss: 7042.3315 - root_mean_squared_error: 83.9186 - val_loss: 6904.6724 - val_root_mean_squared_error: 83.0944\n",
            "Epoch 36/70\n",
            "136/136 [==============================] - 0s 1ms/step - loss: 7043.7217 - root_mean_squared_error: 83.9269 - val_loss: 6903.2920 - val_root_mean_squared_error: 83.0861\n",
            "Epoch 37/70\n",
            "136/136 [==============================] - 0s 1ms/step - loss: 7043.7378 - root_mean_squared_error: 83.9270 - val_loss: 6901.8496 - val_root_mean_squared_error: 83.0774\n",
            "Epoch 38/70\n",
            "136/136 [==============================] - 0s 1ms/step - loss: 7041.8887 - root_mean_squared_error: 83.9160 - val_loss: 6901.4424 - val_root_mean_squared_error: 83.0749\n",
            "Epoch 39/70\n",
            "136/136 [==============================] - 0s 1ms/step - loss: 7043.3281 - root_mean_squared_error: 83.9245 - val_loss: 6902.3911 - val_root_mean_squared_error: 83.0806\n",
            "Epoch 40/70\n",
            "136/136 [==============================] - 0s 1ms/step - loss: 7043.3916 - root_mean_squared_error: 83.9249 - val_loss: 6901.5122 - val_root_mean_squared_error: 83.0753\n",
            "Epoch 41/70\n",
            "136/136 [==============================] - 0s 1ms/step - loss: 7043.1055 - root_mean_squared_error: 83.9232 - val_loss: 6903.7964 - val_root_mean_squared_error: 83.0891\n",
            "Epoch 42/70\n",
            "136/136 [==============================] - 0s 1ms/step - loss: 7042.5083 - root_mean_squared_error: 83.9197 - val_loss: 6902.9048 - val_root_mean_squared_error: 83.0837\n",
            "Epoch 43/70\n",
            "136/136 [==============================] - 0s 1ms/step - loss: 7043.0151 - root_mean_squared_error: 83.9227 - val_loss: 6903.9385 - val_root_mean_squared_error: 83.0899\n",
            "Epoch 44/70\n",
            "136/136 [==============================] - 0s 1ms/step - loss: 7043.4062 - root_mean_squared_error: 83.9250 - val_loss: 6901.6621 - val_root_mean_squared_error: 83.0762\n",
            "Epoch 45/70\n",
            "136/136 [==============================] - 0s 1ms/step - loss: 7040.6294 - root_mean_squared_error: 83.9085 - val_loss: 6904.4683 - val_root_mean_squared_error: 83.0931\n",
            "Epoch 46/70\n",
            "136/136 [==============================] - 0s 1ms/step - loss: 7044.0317 - root_mean_squared_error: 83.9287 - val_loss: 6901.8818 - val_root_mean_squared_error: 83.0776\n",
            "Epoch 47/70\n",
            "136/136 [==============================] - 0s 1ms/step - loss: 7043.1831 - root_mean_squared_error: 83.9237 - val_loss: 6901.8594 - val_root_mean_squared_error: 83.0774\n",
            "Epoch 48/70\n",
            "136/136 [==============================] - 0s 1ms/step - loss: 7042.9360 - root_mean_squared_error: 83.9222 - val_loss: 6903.6514 - val_root_mean_squared_error: 83.0882\n",
            "Epoch 49/70\n",
            "136/136 [==============================] - 0s 1ms/step - loss: 7042.7051 - root_mean_squared_error: 83.9208 - val_loss: 6901.7192 - val_root_mean_squared_error: 83.0766\n",
            "Epoch 50/70\n",
            "136/136 [==============================] - 0s 1ms/step - loss: 7042.9531 - root_mean_squared_error: 83.9223 - val_loss: 6904.0059 - val_root_mean_squared_error: 83.0903\n",
            "Epoch 51/70\n",
            "136/136 [==============================] - 0s 1ms/step - loss: 7043.3257 - root_mean_squared_error: 83.9245 - val_loss: 6901.9619 - val_root_mean_squared_error: 83.0780\n",
            "Epoch 52/70\n",
            "136/136 [==============================] - 0s 2ms/step - loss: 7043.5757 - root_mean_squared_error: 83.9260 - val_loss: 6901.7505 - val_root_mean_squared_error: 83.0768\n",
            "Epoch 53/70\n",
            "136/136 [==============================] - 0s 1ms/step - loss: 7042.9419 - root_mean_squared_error: 83.9222 - val_loss: 6901.5977 - val_root_mean_squared_error: 83.0759\n",
            "Epoch 54/70\n",
            "136/136 [==============================] - 0s 1ms/step - loss: 7043.3325 - root_mean_squared_error: 83.9246 - val_loss: 6903.6182 - val_root_mean_squared_error: 83.0880\n",
            "Epoch 55/70\n",
            "136/136 [==============================] - 0s 1ms/step - loss: 7041.7021 - root_mean_squared_error: 83.9148 - val_loss: 6902.9028 - val_root_mean_squared_error: 83.0837\n",
            "Epoch 56/70\n",
            "136/136 [==============================] - 0s 1ms/step - loss: 7043.8481 - root_mean_squared_error: 83.9276 - val_loss: 6902.8882 - val_root_mean_squared_error: 83.0836\n",
            "Epoch 57/70\n",
            "136/136 [==============================] - 0s 1ms/step - loss: 7042.1890 - root_mean_squared_error: 83.9177 - val_loss: 6907.9932 - val_root_mean_squared_error: 83.1143\n",
            "Epoch 58/70\n",
            "136/136 [==============================] - 0s 1ms/step - loss: 7042.6704 - root_mean_squared_error: 83.9206 - val_loss: 6901.9961 - val_root_mean_squared_error: 83.0783\n",
            "Epoch 59/70\n",
            "136/136 [==============================] - 0s 1ms/step - loss: 7043.7778 - root_mean_squared_error: 83.9272 - val_loss: 6903.6719 - val_root_mean_squared_error: 83.0883\n",
            "Epoch 60/70\n",
            "136/136 [==============================] - 0s 1ms/step - loss: 7043.4854 - root_mean_squared_error: 83.9255 - val_loss: 6902.6885 - val_root_mean_squared_error: 83.0824\n",
            "Epoch 61/70\n",
            "136/136 [==============================] - 0s 1ms/step - loss: 7043.0264 - root_mean_squared_error: 83.9227 - val_loss: 6901.9360 - val_root_mean_squared_error: 83.0779\n",
            "Epoch 62/70\n",
            "136/136 [==============================] - 0s 1ms/step - loss: 7042.7661 - root_mean_squared_error: 83.9212 - val_loss: 6901.8354 - val_root_mean_squared_error: 83.0773\n",
            "Epoch 63/70\n",
            "136/136 [==============================] - 0s 1ms/step - loss: 7043.2852 - root_mean_squared_error: 83.9243 - val_loss: 6901.8628 - val_root_mean_squared_error: 83.0775\n",
            "Epoch 64/70\n",
            "136/136 [==============================] - 0s 1ms/step - loss: 7042.7065 - root_mean_squared_error: 83.9208 - val_loss: 6901.9131 - val_root_mean_squared_error: 83.0778\n",
            "Epoch 65/70\n",
            "136/136 [==============================] - 0s 1ms/step - loss: 7043.1631 - root_mean_squared_error: 83.9236 - val_loss: 6902.2808 - val_root_mean_squared_error: 83.0800\n",
            "Epoch 66/70\n",
            "136/136 [==============================] - 0s 2ms/step - loss: 7043.4854 - root_mean_squared_error: 83.9255 - val_loss: 6901.4473 - val_root_mean_squared_error: 83.0750\n",
            "Epoch 67/70\n",
            "136/136 [==============================] - 0s 2ms/step - loss: 7041.9136 - root_mean_squared_error: 83.9161 - val_loss: 6902.9316 - val_root_mean_squared_error: 83.0839\n",
            "Epoch 68/70\n",
            "136/136 [==============================] - 0s 2ms/step - loss: 7043.0786 - root_mean_squared_error: 83.9230 - val_loss: 6901.0615 - val_root_mean_squared_error: 83.0726\n",
            "Epoch 69/70\n",
            "136/136 [==============================] - 0s 1ms/step - loss: 7042.6729 - root_mean_squared_error: 83.9206 - val_loss: 6901.2173 - val_root_mean_squared_error: 83.0736\n",
            "Epoch 70/70\n",
            "136/136 [==============================] - 0s 2ms/step - loss: 7043.1353 - root_mean_squared_error: 83.9234 - val_loss: 6902.2329 - val_root_mean_squared_error: 83.0797\n",
            "70.7597885131836\n"
          ]
        },
        {
          "data": {
            "image/png": "[encoded data removed]",
            "text/plain": [
              "<Figure size 640x480 with 1 Axes>"
            ]
          },
          "metadata": {},
          "output_type": "display_data"
        }
      ],
      "source": [
        "#@title Double-click to view the complete implementation.\n",
        "\n",
        "# The following variables are the hyperparameters.\n",
        "learning_rate = 0.08\n",
        "epochs = 70\n",
        "batch_size = 100\n",
        "\n",
        "# Split the original training set into a reduced training set and a\n",
        "# validation set. \n",
        "validation_split = 0.2\n",
        "\n",
        "# Identify the feature and the label.\n",
        "my_feature = \"median_income\"    # the median income on a specific city block.\n",
        "my_label = \"median_house_value\" # the median house value on a specific city block.\n",
        "# That is, you're going to create a model that predicts house value based \n",
        "# solely on the neighborhood's median income.  \n",
        "\n",
        "# Shuffle the examples.\n",
        "shuffled_train_df = train_df.reindex(np.random.permutation(train_df.index)) \n",
        "\n",
        "# Invoke the functions to build and train the model. Train on the shuffled\n",
        "# training set.\n",
        "my_model = build_model(learning_rate)\n",
        "epochs, rmse, history = train_model(my_model, shuffled_train_df, my_feature, \n",
        "                                    my_label, epochs, batch_size, \n",
        "                                    validation_split)\n",
        "\n",
        "plot_the_loss_curve(epochs, history[\"root_mean_squared_error\"], \n",
        "                    history[\"val_root_mean_squared_error\"])"
      ]
    },
    {
      "cell_type": "markdown",
      "metadata": {
        "id": "tKN239_miW8C"
      },
      "source": [
        "Experiment with `validation_split` to answer the following questions:\n",
        "\n",
        "* With the training set shuffled, is the final loss for the training set closer to the final loss for the validation set?  \n",
        "* At what range of values of `validation_split` do the final loss values for the training set and validation set diverge meaningfully?  Why?"
      ]
    },
    {
      "cell_type": "code",
      "execution_count": null,
      "metadata": {
        "cellView": "form",
        "id": "-UAJ3Q86iz31"
      },
      "outputs": [],
      "source": [
        "#@title Double-click for the answers to the questions\n",
        "\n",
        "# Yes, after shuffling the original training set, \n",
        "# the final loss for the training set and the \n",
        "# validation set become much closer.\n",
        "\n",
        "# If validation_split < 0.15,\n",
        "# the final loss values for the training set and\n",
        "# validation set diverge meaningfully.  Apparently,\n",
        "# the validation set no longer contains enough examples. "
      ]
    },
    {
      "cell_type": "markdown",
      "metadata": {
        "id": "1PP-O8TOZOeo"
      },
      "source": [
        "## Task 4: Use the Test Dataset to Evaluate Your Model's Performance\n",
        "\n",
        "The test set usually acts as the ultimate judge of a model's quality. The test set can serve as an impartial judge because its examples haven't been used in training the model. Run the following code cell to evaluate the model with the test set:"
      ]
    },
    {
      "cell_type": "code",
      "execution_count": null,
      "metadata": {
        "id": "nd_Sw2cygOip"
      },
      "outputs": [],
      "source": [
        "x_test = test_df[my_feature]\n",
        "y_test = test_df[my_label]\n",
        "\n",
        "results = my_model.evaluate(x_test, y_test, batch_size=batch_size)"
      ]
    },
    {
      "cell_type": "markdown",
      "metadata": {
        "id": "qoyQKvsjmV_A"
      },
      "source": [
        "Compare the root mean squared error of the model when evaluated on each of the three datasets:\n",
        "\n",
        "* training set: look for `root_mean_squared_error` in the final training epoch.\n",
        "* validation set: look for `val_root_mean_squared_error` in the final training epoch.\n",
        "* test set: run the preceding code cell and examine the `root_mean_squared_error`.\n",
        "\n",
        "Ideally, the root mean squared error of all three sets should be similar. Are they?"
      ]
    },
    {
      "cell_type": "code",
      "execution_count": null,
      "metadata": {
        "cellView": "form",
        "id": "FxXtp-aVdIgJ"
      },
      "outputs": [],
      "source": [
        "#@title Double-click for an answer\n",
        "\n",
        "# In our experiments, yes, the rmse values \n",
        "# were similar enough. "
      ]
    }
  ],
  "metadata": {
    "colab": {
      "name": "Validation and Test Sets.ipynb",
      "private_outputs": true,
      "provenance": []
    },
    "kernelspec": {
      "display_name": "Python 3",
      "name": "python3"
    },
    "language_info": {
      "codemirror_mode": {
        "name": "ipython",
        "version": 3
      },
      "file_extension": ".py",
      "mimetype": "text/x-python",
      "name": "python",
      "nbconvert_exporter": "python",
      "pygments_lexer": "ipython3",
      "version": "3.11.0"
    }
  },
  "nbformat": 4,
  "nbformat_minor": 0
}
